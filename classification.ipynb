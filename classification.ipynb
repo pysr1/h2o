{
  "nbformat": 4,
  "nbformat_minor": 0,
  "metadata": {
    "colab": {
      "name": "classification.ipynb",
      "provenance": [],
      "include_colab_link": true
    },
    "kernelspec": {
      "name": "python3",
      "display_name": "Python 3"
    }
  },
  "cells": [
    {
      "cell_type": "markdown",
      "metadata": {
        "id": "view-in-github",
        "colab_type": "text"
      },
      "source": [
        "<a href=\"https://colab.research.google.com/github/pysr1/h2o/blob/master/classification.ipynb\" target=\"_parent\"><img src=\"https://colab.research.google.com/assets/colab-badge.svg\" alt=\"Open In Colab\"/></a>"
      ]
    },
    {
      "cell_type": "markdown",
      "metadata": {
        "id": "W6CK7_G1YY6D",
        "colab_type": "text"
      },
      "source": [
        "# Install h2o:"
      ]
    },
    {
      "cell_type": "markdown",
      "metadata": {
        "id": "6Ze7Pf5Ana7V",
        "colab_type": "text"
      },
      "source": [
        "Note: Most of this code is copied and pasted from the h2o documentation."
      ]
    },
    {
      "cell_type": "code",
      "metadata": {
        "id": "Feq0Hi3fYCg_",
        "colab_type": "code",
        "colab": {
          "base_uri": "https://localhost:8080/",
          "height": 272
        },
        "outputId": "dd2417c8-1271-4e53-9785-ff3f5ad9d5d4"
      },
      "source": [
        "%%bash\n",
        "apt-get install default-jre\n",
        "pip install -f http://h2o-release.s3.amazonaws.com/h2o/latest_stable_Py.html h2o"
      ],
      "execution_count": 1,
      "outputs": [
        {
          "output_type": "stream",
          "text": [
            "Reading package lists...\n",
            "Building dependency tree...\n",
            "Reading state information...\n",
            "default-jre is already the newest version (2:1.11-68ubuntu1~18.04.1).\n",
            "0 upgraded, 0 newly installed, 0 to remove and 8 not upgraded.\n",
            "Looking in links: http://h2o-release.s3.amazonaws.com/h2o/latest_stable_Py.html\n",
            "Requirement already satisfied: h2o in /usr/local/lib/python3.6/dist-packages (3.26.0.6)\n",
            "Requirement already satisfied: tabulate in /usr/local/lib/python3.6/dist-packages (from h2o) (0.8.5)\n",
            "Requirement already satisfied: colorama>=0.3.8 in /usr/local/lib/python3.6/dist-packages (from h2o) (0.4.1)\n",
            "Requirement already satisfied: requests in /usr/local/lib/python3.6/dist-packages (from h2o) (2.21.0)\n",
            "Requirement already satisfied: future in /usr/local/lib/python3.6/dist-packages (from h2o) (0.16.0)\n",
            "Requirement already satisfied: certifi>=2017.4.17 in /usr/local/lib/python3.6/dist-packages (from requests->h2o) (2019.9.11)\n",
            "Requirement already satisfied: chardet<3.1.0,>=3.0.2 in /usr/local/lib/python3.6/dist-packages (from requests->h2o) (3.0.4)\n",
            "Requirement already satisfied: urllib3<1.25,>=1.21.1 in /usr/local/lib/python3.6/dist-packages (from requests->h2o) (1.24.3)\n",
            "Requirement already satisfied: idna<2.9,>=2.5 in /usr/local/lib/python3.6/dist-packages (from requests->h2o) (2.8)\n"
          ],
          "name": "stdout"
        }
      ]
    },
    {
      "cell_type": "markdown",
      "metadata": {
        "id": "hpHte899fLUF",
        "colab_type": "text"
      },
      "source": [
        "# Data Import and AutoML"
      ]
    },
    {
      "cell_type": "code",
      "metadata": {
        "id": "JT7xR4u4_ZWw",
        "colab_type": "code",
        "colab": {
          "base_uri": "https://localhost:8080/",
          "height": 596
        },
        "outputId": "4faccf82-bf66-4168-aca5-c7ff99a34b9a"
      },
      "source": [
        "import h2o\n",
        "from h2o.automl import H2OAutoML\n",
        "\n",
        "h2o.init()\n",
        "\n",
        "# Import a sample binary outcome train/test set into H2O\n",
        "train = h2o.import_file(\"https://s3.amazonaws.com/erin-data/higgs/higgs_train_10k.csv\")\n",
        "test = h2o.import_file(\"https://s3.amazonaws.com/erin-data/higgs/higgs_test_5k.csv\")\n",
        "\n",
        "# Identify predictors and response\n",
        "x = train.columns\n",
        "y = \"response\"\n",
        "x.remove(y)\n",
        "\n",
        "# For binary classification, response should be a factor\n",
        "train[y] = train[y].asfactor()\n",
        "test[y] = test[y].asfactor()"
      ],
      "execution_count": 2,
      "outputs": [
        {
          "output_type": "stream",
          "text": [
            "Checking whether there is an H2O instance running at http://localhost:54321 ..... not found.\n",
            "Attempting to start a local H2O server...\n",
            "  Java Version: openjdk version \"11.0.4\" 2019-07-16; OpenJDK Runtime Environment (build 11.0.4+11-post-Ubuntu-1ubuntu218.04.3); OpenJDK 64-Bit Server VM (build 11.0.4+11-post-Ubuntu-1ubuntu218.04.3, mixed mode, sharing)\n",
            "  Starting server from /usr/local/lib/python3.6/dist-packages/h2o/backend/bin/h2o.jar\n",
            "  Ice root: /tmp/tmpnvvuqtp6\n",
            "  JVM stdout: /tmp/tmpnvvuqtp6/h2o_unknownUser_started_from_python.out\n",
            "  JVM stderr: /tmp/tmpnvvuqtp6/h2o_unknownUser_started_from_python.err\n",
            "  Server is running at http://127.0.0.1:54321\n",
            "Connecting to H2O server at http://127.0.0.1:54321 ... successful.\n"
          ],
          "name": "stdout"
        },
        {
          "output_type": "display_data",
          "data": {
            "text/html": [
              "<div style=\"overflow:auto\"><table style=\"width:50%\"><tr><td>H2O cluster uptime:</td>\n",
              "<td>02 secs</td></tr>\n",
              "<tr><td>H2O cluster timezone:</td>\n",
              "<td>Etc/UTC</td></tr>\n",
              "<tr><td>H2O data parsing timezone:</td>\n",
              "<td>UTC</td></tr>\n",
              "<tr><td>H2O cluster version:</td>\n",
              "<td>3.26.0.6</td></tr>\n",
              "<tr><td>H2O cluster version age:</td>\n",
              "<td>7 days and 37 minutes </td></tr>\n",
              "<tr><td>H2O cluster name:</td>\n",
              "<td>H2O_from_python_unknownUser_rv4k5w</td></tr>\n",
              "<tr><td>H2O cluster total nodes:</td>\n",
              "<td>1</td></tr>\n",
              "<tr><td>H2O cluster free memory:</td>\n",
              "<td>3 Gb</td></tr>\n",
              "<tr><td>H2O cluster total cores:</td>\n",
              "<td>2</td></tr>\n",
              "<tr><td>H2O cluster allowed cores:</td>\n",
              "<td>2</td></tr>\n",
              "<tr><td>H2O cluster status:</td>\n",
              "<td>accepting new members, healthy</td></tr>\n",
              "<tr><td>H2O connection url:</td>\n",
              "<td>http://127.0.0.1:54321</td></tr>\n",
              "<tr><td>H2O connection proxy:</td>\n",
              "<td>None</td></tr>\n",
              "<tr><td>H2O internal security:</td>\n",
              "<td>False</td></tr>\n",
              "<tr><td>H2O API Extensions:</td>\n",
              "<td>Amazon S3, XGBoost, Algos, AutoML, Core V3, TargetEncoder, Core V4</td></tr>\n",
              "<tr><td>Python version:</td>\n",
              "<td>3.6.8 final</td></tr></table></div>"
            ],
            "text/plain": [
              "--------------------------  ------------------------------------------------------------------\n",
              "H2O cluster uptime:         02 secs\n",
              "H2O cluster timezone:       Etc/UTC\n",
              "H2O data parsing timezone:  UTC\n",
              "H2O cluster version:        3.26.0.6\n",
              "H2O cluster version age:    7 days and 37 minutes\n",
              "H2O cluster name:           H2O_from_python_unknownUser_rv4k5w\n",
              "H2O cluster total nodes:    1\n",
              "H2O cluster free memory:    3 Gb\n",
              "H2O cluster total cores:    2\n",
              "H2O cluster allowed cores:  2\n",
              "H2O cluster status:         accepting new members, healthy\n",
              "H2O connection url:         http://127.0.0.1:54321\n",
              "H2O connection proxy:\n",
              "H2O internal security:      False\n",
              "H2O API Extensions:         Amazon S3, XGBoost, Algos, AutoML, Core V3, TargetEncoder, Core V4\n",
              "Python version:             3.6.8 final\n",
              "--------------------------  ------------------------------------------------------------------"
            ]
          },
          "metadata": {
            "tags": []
          }
        },
        {
          "output_type": "stream",
          "text": [
            "Parse progress: |█████████████████████████████████████████████████████████| 100%\n",
            "Parse progress: |█████████████████████████████████████████████████████████| 100%\n"
          ],
          "name": "stdout"
        }
      ]
    },
    {
      "cell_type": "code",
      "metadata": {
        "id": "PbyzdnXCYGhR",
        "colab_type": "code",
        "colab": {
          "base_uri": "https://localhost:8080/",
          "height": 519
        },
        "outputId": "1cc1b4b1-041b-4f27-b0a7-b1e6717bf722"
      },
      "source": [
        "# Run AutoML for 20 base models (limited to 1 hour max runtime by default)\n",
        "aml = H2OAutoML(max_models=20, seed=1, keep_cross_validation_models=True)\n",
        "aml.train(x=x, y=y, training_frame=train)\n",
        "\n",
        "# View the AutoML Leaderboard\n",
        "lb = aml.leaderboard\n",
        "lb.head(rows=lb.nrows)  # Print all rows instead of default (10 rows)"
      ],
      "execution_count": 3,
      "outputs": [
        {
          "output_type": "stream",
          "text": [
            "AutoML progress: |████████████████████████████████████████████████████████| 100%\n"
          ],
          "name": "stdout"
        },
        {
          "output_type": "display_data",
          "data": {
            "text/html": [
              "<table>\n",
              "<thead>\n",
              "<tr><th>model_id                                           </th><th style=\"text-align: right;\">     auc</th><th style=\"text-align: right;\">  logloss</th><th style=\"text-align: right;\">  mean_per_class_error</th><th style=\"text-align: right;\">    rmse</th><th style=\"text-align: right;\">     mse</th></tr>\n",
              "</thead>\n",
              "<tbody>\n",
              "<tr><td>StackedEnsemble_AllModels_AutoML_20191009_005033   </td><td style=\"text-align: right;\">0.789683</td><td style=\"text-align: right;\"> 0.551519</td><td style=\"text-align: right;\">              0.318681</td><td style=\"text-align: right;\">0.432219</td><td style=\"text-align: right;\">0.186813</td></tr>\n",
              "<tr><td>StackedEnsemble_BestOfFamily_AutoML_20191009_005033</td><td style=\"text-align: right;\">0.787846</td><td style=\"text-align: right;\"> 0.55313 </td><td style=\"text-align: right;\">              0.315858</td><td style=\"text-align: right;\">0.433038</td><td style=\"text-align: right;\">0.187522</td></tr>\n",
              "<tr><td>XGBoost_grid_1_AutoML_20191009_005033_model_3      </td><td style=\"text-align: right;\">0.78538 </td><td style=\"text-align: right;\"> 0.55838 </td><td style=\"text-align: right;\">              0.333409</td><td style=\"text-align: right;\">0.434884</td><td style=\"text-align: right;\">0.189124</td></tr>\n",
              "<tr><td>XGBoost_3_AutoML_20191009_005033                   </td><td style=\"text-align: right;\">0.784162</td><td style=\"text-align: right;\"> 0.558118</td><td style=\"text-align: right;\">              0.340129</td><td style=\"text-align: right;\">0.435162</td><td style=\"text-align: right;\">0.189366</td></tr>\n",
              "<tr><td>XGBoost_grid_1_AutoML_20191009_005033_model_4      </td><td style=\"text-align: right;\">0.783842</td><td style=\"text-align: right;\"> 0.557377</td><td style=\"text-align: right;\">              0.312392</td><td style=\"text-align: right;\">0.435045</td><td style=\"text-align: right;\">0.189264</td></tr>\n",
              "<tr><td>XGBoost_1_AutoML_20191009_005033                   </td><td style=\"text-align: right;\">0.782782</td><td style=\"text-align: right;\"> 0.557031</td><td style=\"text-align: right;\">              0.331908</td><td style=\"text-align: right;\">0.43506 </td><td style=\"text-align: right;\">0.189277</td></tr>\n",
              "<tr><td>XGBoost_2_AutoML_20191009_005033                   </td><td style=\"text-align: right;\">0.782426</td><td style=\"text-align: right;\"> 0.557296</td><td style=\"text-align: right;\">              0.326804</td><td style=\"text-align: right;\">0.435181</td><td style=\"text-align: right;\">0.189383</td></tr>\n",
              "<tr><td>XGBoost_grid_1_AutoML_20191009_005033_model_1      </td><td style=\"text-align: right;\">0.781559</td><td style=\"text-align: right;\"> 0.561901</td><td style=\"text-align: right;\">              0.330242</td><td style=\"text-align: right;\">0.436658</td><td style=\"text-align: right;\">0.190671</td></tr>\n",
              "<tr><td>GBM_5_AutoML_20191009_005033                       </td><td style=\"text-align: right;\">0.780344</td><td style=\"text-align: right;\"> 0.558723</td><td style=\"text-align: right;\">              0.334826</td><td style=\"text-align: right;\">0.436138</td><td style=\"text-align: right;\">0.190216</td></tr>\n",
              "<tr><td>GBM_1_AutoML_20191009_005033                       </td><td style=\"text-align: right;\">0.780286</td><td style=\"text-align: right;\"> 0.560701</td><td style=\"text-align: right;\">              0.316822</td><td style=\"text-align: right;\">0.43642 </td><td style=\"text-align: right;\">0.190462</td></tr>\n",
              "<tr><td>GBM_2_AutoML_20191009_005033                       </td><td style=\"text-align: right;\">0.77971 </td><td style=\"text-align: right;\"> 0.560845</td><td style=\"text-align: right;\">              0.332059</td><td style=\"text-align: right;\">0.436651</td><td style=\"text-align: right;\">0.190664</td></tr>\n",
              "<tr><td>GBM_3_AutoML_20191009_005033                       </td><td style=\"text-align: right;\">0.774661</td><td style=\"text-align: right;\"> 0.56568 </td><td style=\"text-align: right;\">              0.33475 </td><td style=\"text-align: right;\">0.43918 </td><td style=\"text-align: right;\">0.192879</td></tr>\n",
              "<tr><td>XGBoost_grid_1_AutoML_20191009_005033_model_2      </td><td style=\"text-align: right;\">0.774081</td><td style=\"text-align: right;\"> 0.57672 </td><td style=\"text-align: right;\">              0.330086</td><td style=\"text-align: right;\">0.44281 </td><td style=\"text-align: right;\">0.196081</td></tr>\n",
              "<tr><td>GBM_4_AutoML_20191009_005033                       </td><td style=\"text-align: right;\">0.769793</td><td style=\"text-align: right;\"> 0.571616</td><td style=\"text-align: right;\">              0.338649</td><td style=\"text-align: right;\">0.441869</td><td style=\"text-align: right;\">0.195248</td></tr>\n",
              "<tr><td>GBM_grid_1_AutoML_20191009_005033_model_1          </td><td style=\"text-align: right;\">0.769752</td><td style=\"text-align: right;\"> 0.572583</td><td style=\"text-align: right;\">              0.344331</td><td style=\"text-align: right;\">0.442452</td><td style=\"text-align: right;\">0.195764</td></tr>\n",
              "<tr><td>DRF_1_AutoML_20191009_005033                       </td><td style=\"text-align: right;\">0.76334 </td><td style=\"text-align: right;\"> 0.580105</td><td style=\"text-align: right;\">              0.342391</td><td style=\"text-align: right;\">0.445477</td><td style=\"text-align: right;\">0.198449</td></tr>\n",
              "<tr><td>XRT_1_AutoML_20191009_005033                       </td><td style=\"text-align: right;\">0.76257 </td><td style=\"text-align: right;\"> 0.582324</td><td style=\"text-align: right;\">              0.347   </td><td style=\"text-align: right;\">0.446207</td><td style=\"text-align: right;\">0.199101</td></tr>\n",
              "<tr><td>GBM_grid_1_AutoML_20191009_005033_model_2          </td><td style=\"text-align: right;\">0.752753</td><td style=\"text-align: right;\"> 0.931836</td><td style=\"text-align: right;\">              0.345093</td><td style=\"text-align: right;\">0.496916</td><td style=\"text-align: right;\">0.246926</td></tr>\n",
              "<tr><td>DeepLearning_grid_1_AutoML_20191009_005033_model_2 </td><td style=\"text-align: right;\">0.743837</td><td style=\"text-align: right;\"> 0.594964</td><td style=\"text-align: right;\">              0.354366</td><td style=\"text-align: right;\">0.453033</td><td style=\"text-align: right;\">0.205239</td></tr>\n",
              "<tr><td>DeepLearning_grid_1_AutoML_20191009_005033_model_1 </td><td style=\"text-align: right;\">0.70755 </td><td style=\"text-align: right;\"> 0.639218</td><td style=\"text-align: right;\">              0.391306</td><td style=\"text-align: right;\">0.468617</td><td style=\"text-align: right;\">0.219602</td></tr>\n",
              "<tr><td>GLM_grid_1_AutoML_20191009_005033_model_1          </td><td style=\"text-align: right;\">0.682648</td><td style=\"text-align: right;\"> 0.63852 </td><td style=\"text-align: right;\">              0.397234</td><td style=\"text-align: right;\">0.472683</td><td style=\"text-align: right;\">0.223429</td></tr>\n",
              "<tr><td>DeepLearning_1_AutoML_20191009_005033              </td><td style=\"text-align: right;\">0.681212</td><td style=\"text-align: right;\"> 0.640374</td><td style=\"text-align: right;\">              0.398875</td><td style=\"text-align: right;\">0.473225</td><td style=\"text-align: right;\">0.223941</td></tr>\n",
              "</tbody>\n",
              "</table>"
            ]
          },
          "metadata": {
            "tags": []
          }
        },
        {
          "output_type": "execute_result",
          "data": {
            "text/plain": [
              ""
            ]
          },
          "metadata": {
            "tags": []
          },
          "execution_count": 3
        }
      ]
    },
    {
      "cell_type": "markdown",
      "metadata": {
        "id": "lqyAr2LqfVHz",
        "colab_type": "text"
      },
      "source": [
        "## Random Grid / Tuning w/ GBM"
      ]
    },
    {
      "cell_type": "code",
      "metadata": {
        "id": "T8hH_s_BY-hz",
        "colab_type": "code",
        "colab": {
          "base_uri": "https://localhost:8080/",
          "height": 51
        },
        "outputId": "58e243ae-191a-4414-cef5-557c20d8de1f"
      },
      "source": [
        "from h2o.estimators.gbm import H2OGradientBoostingEstimator\n",
        "from h2o.grid.grid_search import H2OGridSearch\n",
        "\n",
        "\n",
        "# Use same data as above\n",
        "\n",
        "# GBM hyperparameters\n",
        "gbm_params2 = {'learn_rate': [i * 0.01 for i in range(1, 11)],\n",
        "                'max_depth': list(range(2, 11)),\n",
        "                'sample_rate': [i * 0.1 for i in range(5, 11)],\n",
        "                'col_sample_rate': [i * 0.1 for i in range(1, 11)],\n",
        "                'ntrees' : [100, 300, 500, 700]\n",
        "              }\n",
        "\n",
        "# Search criteria\n",
        "search_criteria = {'strategy': 'RandomDiscrete', 'max_models': 36, 'seed': 1}\n",
        "\n",
        "# Train and validate a random grid of GBMs\n",
        "gbm_grid2 = H2OGridSearch(model=H2OGradientBoostingEstimator,\n",
        "                          grid_id='gbm_grid2',\n",
        "                          \n",
        "                          hyper_params=gbm_params2,\n",
        "                          search_criteria=search_criteria)\n",
        "gbm_grid2.train(x=x, y=y,\n",
        "                training_frame=train,\n",
        "                seed=1, nfolds = 5)\n",
        "\n",
        "# Get the grid results, sorted by validation AUC\n",
        "gbm_gridperf2 = gbm_grid2.get_grid(sort_by='auc', decreasing=True)\n",
        "gbm_gridperf2\n",
        "\n",
        "# Grab the top GBM model, chosen by validation AUC\n",
        "best_gbm2 = gbm_gridperf2.models[0]\n",
        "\n",
        "# Now let's evaluate the model performance on a test set\n",
        "# so we get an honest estimate of top model performance\n",
        "best_gbm_perf2 = best_gbm2.model_performance(test)\n",
        "\n",
        "best_gbm_perf2.auc()\n",
        "# 0.7810757307013204"
      ],
      "execution_count": 4,
      "outputs": [
        {
          "output_type": "stream",
          "text": [
            "gbm Grid Build progress: |████████████████████████████████████████████████| 100%\n"
          ],
          "name": "stdout"
        },
        {
          "output_type": "execute_result",
          "data": {
            "text/plain": [
              "0.7899973856840057"
            ]
          },
          "metadata": {
            "tags": []
          },
          "execution_count": 4
        }
      ]
    },
    {
      "cell_type": "code",
      "metadata": {
        "id": "WFshczZ1d5zM",
        "colab_type": "code",
        "colab": {
          "base_uri": "https://localhost:8080/",
          "height": 680
        },
        "outputId": "73f80647-2b68-4b5c-b588-e6db42a79124"
      },
      "source": [
        "gbm_gridperf2"
      ],
      "execution_count": 5,
      "outputs": [
        {
          "output_type": "stream",
          "text": [
            "          col_sample_rate  ...           model_ids                 auc\n",
            "0      0.6000000000000001  ...  gbm_grid2_model_26  0.7853128741147936\n",
            "1                     1.0  ...  gbm_grid2_model_15  0.7834489859199875\n",
            "2                     0.8  ...   gbm_grid2_model_6  0.7827057788160587\n",
            "3     0.30000000000000004  ...   gbm_grid2_model_4  0.7820598101993038\n",
            "4      0.6000000000000001  ...  gbm_grid2_model_27  0.7807801155823421\n",
            "5      0.6000000000000001  ...  gbm_grid2_model_17  0.7802352990760838\n",
            "6                     0.9  ...   gbm_grid2_model_8  0.7802126000608116\n",
            "7                     0.4  ...  gbm_grid2_model_22   0.779543551101384\n",
            "8                     0.5  ...  gbm_grid2_model_16  0.7793075495800883\n",
            "9                     0.4  ...  gbm_grid2_model_35  0.7772351756464252\n",
            "10     0.7000000000000001  ...   gbm_grid2_model_5  0.7769261599628307\n",
            "11                    0.9  ...  gbm_grid2_model_10  0.7766655728591225\n",
            "12     0.7000000000000001  ...  gbm_grid2_model_11  0.7766009679695018\n",
            "13    0.30000000000000004  ...  gbm_grid2_model_31  0.7761910811534953\n",
            "14     0.7000000000000001  ...  gbm_grid2_model_29  0.7758647251081013\n",
            "15                    0.9  ...  gbm_grid2_model_14  0.7758439126599693\n",
            "16                    0.5  ...  gbm_grid2_model_25  0.7751834937417149\n",
            "17                    0.1  ...  gbm_grid2_model_20  0.7748979196583307\n",
            "18                    1.0  ...  gbm_grid2_model_36  0.7748958524624217\n",
            "19                    1.0  ...  gbm_grid2_model_32  0.7748811412527007\n",
            "20                    0.1  ...   gbm_grid2_model_1  0.7747056102292078\n",
            "21     0.7000000000000001  ...  gbm_grid2_model_21  0.7740911111579407\n",
            "22     0.6000000000000001  ...  gbm_grid2_model_18  0.7740310019176755\n",
            "23                    0.4  ...  gbm_grid2_model_19   0.773916924815282\n",
            "24                    0.8  ...   gbm_grid2_model_2  0.7737513885836598\n",
            "25     0.6000000000000001  ...  gbm_grid2_model_33  0.7730586772555265\n",
            "26                    0.2  ...  gbm_grid2_model_24  0.7723227153722106\n",
            "27                    0.5  ...   gbm_grid2_model_9  0.7721857586257763\n",
            "28                    0.2  ...  gbm_grid2_model_13  0.7710253392057753\n",
            "29                    0.9  ...  gbm_grid2_model_28  0.7684736567993183\n",
            "30                    1.0  ...  gbm_grid2_model_12  0.7684042953521207\n",
            "31                    1.0  ...  gbm_grid2_model_34  0.7666425025513814\n",
            "32                    0.4  ...  gbm_grid2_model_30  0.7646302378579836\n",
            "33                    0.2  ...  gbm_grid2_model_23  0.7643854858763356\n",
            "34                    0.2  ...   gbm_grid2_model_3  0.7396582302996731\n",
            "35                    0.5  ...   gbm_grid2_model_7  0.7392661253824563\n",
            "\n",
            "[36 rows x 8 columns]\n"
          ],
          "name": "stdout"
        },
        {
          "output_type": "execute_result",
          "data": {
            "text/plain": [
              ""
            ]
          },
          "metadata": {
            "tags": []
          },
          "execution_count": 5
        }
      ]
    },
    {
      "cell_type": "code",
      "metadata": {
        "id": "p2lYB__wgseF",
        "colab_type": "code",
        "colab": {
          "base_uri": "https://localhost:8080/",
          "height": 249
        },
        "outputId": "872fd3f4-eb67-447c-edaf-0115a12c93f7"
      },
      "source": [
        "from h2o.estimators.random_forest import H2ORandomForestEstimator\n",
        "from h2o.grid.grid_search import H2OGridSearch\n",
        "\n",
        "\n",
        "rf_params = {\n",
        "                'max_depth': list(range(2, 11)),\n",
        "                'sample_rate': [i * 0.1 for i in range(5, 11)],\n",
        "                'ntrees' : [100, 300, 500, 700]\n",
        "             }\n",
        "\n",
        "search_criteria = {'strategy': 'RandomDiscrete', 'max_models': 5, 'seed': 1}\n",
        "\n",
        "rf_grid2 = H2OGridSearch(model=H2ORandomForestEstimator,\n",
        "                          grid_id='rf_grid',\n",
        "                          hyper_params=rf_params,\n",
        "                          search_criteria=search_criteria)\n",
        "rf_grid2.train(x=x, y=y,\n",
        "                training_frame=train,\n",
        "                seed=1, nfolds = 5)\n",
        "\n",
        "rf_gridperf2 = rf_grid2.get_grid(sort_by='auc', decreasing=True)\n",
        "\n",
        "\n",
        "\n",
        "best_rf = rf_gridperf2.models[0]\n",
        "\n",
        "\n",
        "best_rf = best_rf.model_performance(test)\n",
        "\n",
        "best_rf.auc()"
      ],
      "execution_count": 6,
      "outputs": [
        {
          "output_type": "stream",
          "text": [
            "drf Grid Build progress: |████████████████████████████████████████████████| 100%\n"
          ],
          "name": "stdout"
        },
        {
          "output_type": "error",
          "ename": "NameError",
          "evalue": "ignored",
          "traceback": [
            "\u001b[0;31m---------------------------------------------------------------------------\u001b[0m",
            "\u001b[0;31mNameError\u001b[0m                                 Traceback (most recent call last)",
            "\u001b[0;32m<ipython-input-6-43afad8257be>\u001b[0m in \u001b[0;36m<module>\u001b[0;34m()\u001b[0m\n\u001b[1;32m     20\u001b[0m \u001b[0;34m\u001b[0m\u001b[0m\n\u001b[1;32m     21\u001b[0m \u001b[0mrf_gridperf2\u001b[0m \u001b[0;34m=\u001b[0m \u001b[0mrf_grid2\u001b[0m\u001b[0;34m.\u001b[0m\u001b[0mget_grid\u001b[0m\u001b[0;34m(\u001b[0m\u001b[0msort_by\u001b[0m\u001b[0;34m=\u001b[0m\u001b[0;34m'auc'\u001b[0m\u001b[0;34m,\u001b[0m \u001b[0mdecreasing\u001b[0m\u001b[0;34m=\u001b[0m\u001b[0;32mTrue\u001b[0m\u001b[0;34m)\u001b[0m\u001b[0;34m\u001b[0m\u001b[0;34m\u001b[0m\u001b[0m\n\u001b[0;32m---> 22\u001b[0;31m \u001b[0mrfgridperf2\u001b[0m\u001b[0;34m\u001b[0m\u001b[0;34m\u001b[0m\u001b[0m\n\u001b[0m\u001b[1;32m     23\u001b[0m \u001b[0;34m\u001b[0m\u001b[0m\n\u001b[1;32m     24\u001b[0m \u001b[0;34m\u001b[0m\u001b[0m\n",
            "\u001b[0;31mNameError\u001b[0m: name 'rfgridperf2' is not defined"
          ]
        }
      ]
    },
    {
      "cell_type": "code",
      "metadata": {
        "id": "Ohkyt_Ey1SKN",
        "colab_type": "code",
        "colab": {}
      },
      "source": [
        "best_rf.auc()"
      ],
      "execution_count": 0,
      "outputs": []
    },
    {
      "cell_type": "code",
      "metadata": {
        "id": "tV1uHkPC_QzR",
        "colab_type": "code",
        "colab": {}
      },
      "source": [
        ""
      ],
      "execution_count": 0,
      "outputs": []
    }
  ]
}