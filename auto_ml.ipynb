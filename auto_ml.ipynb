{
  "nbformat": 4,
  "nbformat_minor": 0,
  "metadata": {
    "colab": {
      "name": "auto_ml.ipynb",
      "provenance": [],
      "collapsed_sections": [],
      "include_colab_link": true
    },
    "kernelspec": {
      "name": "python3",
      "display_name": "Python 3"
    }
  },
  "cells": [
    {
      "cell_type": "markdown",
      "metadata": {
        "id": "view-in-github",
        "colab_type": "text"
      },
      "source": [
        "<a href=\"https://colab.research.google.com/github/pysr1/h2o/blob/master/auto_ml.ipynb\" target=\"_parent\"><img src=\"https://colab.research.google.com/assets/colab-badge.svg\" alt=\"Open In Colab\"/></a>"
      ]
    },
    {
      "cell_type": "code",
      "metadata": {
        "id": "Z6XMKpHd85N1",
        "colab_type": "code",
        "colab": {}
      },
      "source": [
        "%%bash\n",
        "apt-get install default-jre\n",
        "pip install -f http://h2o-release.s3.amazonaws.com/h2o/latest_stable_Py.html h2o"
      ],
      "execution_count": 0,
      "outputs": []
    },
    {
      "cell_type": "code",
      "metadata": {
        "id": "WKlDpMCdm_Xl",
        "colab_type": "code",
        "outputId": "1f968b7d-05b7-4e8d-b928-c135ff8faf08",
        "colab": {
          "base_uri": "https://localhost:8080/",
          "height": 908
        }
      },
      "source": [
        "import h2o\n",
        "from h2o.automl import H2OAutoML\n",
        "\n",
        "h2o.init()\n",
        "\n",
        "# Import a sample binary outcome train/test set into H2O\n",
        "train = h2o.import_file(\"https://s3.amazonaws.com/erin-data/higgs/higgs_train_10k.csv\")\n",
        "test = h2o.import_file(\"https://s3.amazonaws.com/erin-data/higgs/higgs_test_5k.csv\")\n",
        "\n",
        "# Identify predictors and response\n",
        "x = train.columns\n",
        "y = \"response\"\n",
        "x.remove(y)\n",
        "\n",
        "# For binary classification, response should be a factor\n",
        "train[y] = train[y].asfactor()\n",
        "test[y] = test[y].asfactor()\n",
        "\n",
        "# Run AutoML for 20 base models (limited to 1 hour max runtime by default)\n",
        "aml = H2OAutoML(max_models=20, seed=1, keep_cross_validation_models=True)\n",
        "aml.train(x=x, y=y, training_frame=train)\n",
        "\n",
        "# View the AutoML Leaderboard\n",
        "lb = aml.leaderboard\n",
        "lb.head(rows=lb.nrows)  # Print all rows instead of default (10 rows)"
      ],
      "execution_count": 0,
      "outputs": [
        {
          "output_type": "stream",
          "text": [
            "Checking whether there is an H2O instance running at http://localhost:54321 . connected.\n"
          ],
          "name": "stdout"
        },
        {
          "output_type": "display_data",
          "data": {
            "text/html": [
              "<div style=\"overflow:auto\"><table style=\"width:50%\"><tr><td>H2O cluster uptime:</td>\n",
              "<td>3 hours 22 mins</td></tr>\n",
              "<tr><td>H2O cluster timezone:</td>\n",
              "<td>Etc/UTC</td></tr>\n",
              "<tr><td>H2O data parsing timezone:</td>\n",
              "<td>UTC</td></tr>\n",
              "<tr><td>H2O cluster version:</td>\n",
              "<td>3.26.0.2</td></tr>\n",
              "<tr><td>H2O cluster version age:</td>\n",
              "<td>26 days </td></tr>\n",
              "<tr><td>H2O cluster name:</td>\n",
              "<td>H2O_from_python_unknownUser_6qmk00</td></tr>\n",
              "<tr><td>H2O cluster total nodes:</td>\n",
              "<td>1</td></tr>\n",
              "<tr><td>H2O cluster free memory:</td>\n",
              "<td>2.519 Gb</td></tr>\n",
              "<tr><td>H2O cluster total cores:</td>\n",
              "<td>2</td></tr>\n",
              "<tr><td>H2O cluster allowed cores:</td>\n",
              "<td>2</td></tr>\n",
              "<tr><td>H2O cluster status:</td>\n",
              "<td>locked, healthy</td></tr>\n",
              "<tr><td>H2O connection url:</td>\n",
              "<td>http://localhost:54321</td></tr>\n",
              "<tr><td>H2O connection proxy:</td>\n",
              "<td>None</td></tr>\n",
              "<tr><td>H2O internal security:</td>\n",
              "<td>False</td></tr>\n",
              "<tr><td>H2O API Extensions:</td>\n",
              "<td>Amazon S3, XGBoost, Algos, AutoML, Core V3, Core V4</td></tr>\n",
              "<tr><td>Python version:</td>\n",
              "<td>3.6.8 final</td></tr></table></div>"
            ],
            "text/plain": [
              "--------------------------  ---------------------------------------------------\n",
              "H2O cluster uptime:         3 hours 22 mins\n",
              "H2O cluster timezone:       Etc/UTC\n",
              "H2O data parsing timezone:  UTC\n",
              "H2O cluster version:        3.26.0.2\n",
              "H2O cluster version age:    26 days\n",
              "H2O cluster name:           H2O_from_python_unknownUser_6qmk00\n",
              "H2O cluster total nodes:    1\n",
              "H2O cluster free memory:    2.519 Gb\n",
              "H2O cluster total cores:    2\n",
              "H2O cluster allowed cores:  2\n",
              "H2O cluster status:         locked, healthy\n",
              "H2O connection url:         http://localhost:54321\n",
              "H2O connection proxy:\n",
              "H2O internal security:      False\n",
              "H2O API Extensions:         Amazon S3, XGBoost, Algos, AutoML, Core V3, Core V4\n",
              "Python version:             3.6.8 final\n",
              "--------------------------  ---------------------------------------------------"
            ]
          },
          "metadata": {
            "tags": []
          }
        },
        {
          "output_type": "stream",
          "text": [
            "Parse progress: |█████████████████████████████████████████████████████████| 100%\n",
            "Parse progress: |█████████████████████████████████████████████████████████| 100%\n",
            "AutoML progress: |████████████████████████████████████████████████████████| 100%\n"
          ],
          "name": "stdout"
        },
        {
          "output_type": "display_data",
          "data": {
            "text/html": [
              "<table>\n",
              "<thead>\n",
              "<tr><th>model_id                                           </th><th style=\"text-align: right;\">     auc</th><th style=\"text-align: right;\">  logloss</th><th style=\"text-align: right;\">  mean_per_class_error</th><th style=\"text-align: right;\">    rmse</th><th style=\"text-align: right;\">     mse</th></tr>\n",
              "</thead>\n",
              "<tbody>\n",
              "<tr><td>StackedEnsemble_AllModels_AutoML_20190822_014733   </td><td style=\"text-align: right;\">0.790214</td><td style=\"text-align: right;\"> 0.551084</td><td style=\"text-align: right;\">              0.324954</td><td style=\"text-align: right;\">0.431938</td><td style=\"text-align: right;\">0.18657 </td></tr>\n",
              "<tr><td>StackedEnsemble_BestOfFamily_AutoML_20190822_014733</td><td style=\"text-align: right;\">0.788471</td><td style=\"text-align: right;\"> 0.552618</td><td style=\"text-align: right;\">              0.323182</td><td style=\"text-align: right;\">0.432714</td><td style=\"text-align: right;\">0.187241</td></tr>\n",
              "<tr><td>XGBoost_grid_1_AutoML_20190822_014733_model_3      </td><td style=\"text-align: right;\">0.78538 </td><td style=\"text-align: right;\"> 0.55838 </td><td style=\"text-align: right;\">              0.333409</td><td style=\"text-align: right;\">0.434884</td><td style=\"text-align: right;\">0.189124</td></tr>\n",
              "<tr><td>XGBoost_3_AutoML_20190822_014733                   </td><td style=\"text-align: right;\">0.784162</td><td style=\"text-align: right;\"> 0.558118</td><td style=\"text-align: right;\">              0.340129</td><td style=\"text-align: right;\">0.435162</td><td style=\"text-align: right;\">0.189366</td></tr>\n",
              "<tr><td>XGBoost_grid_1_AutoML_20190822_014733_model_4      </td><td style=\"text-align: right;\">0.783842</td><td style=\"text-align: right;\"> 0.557377</td><td style=\"text-align: right;\">              0.312392</td><td style=\"text-align: right;\">0.435045</td><td style=\"text-align: right;\">0.189264</td></tr>\n",
              "<tr><td>XGBoost_1_AutoML_20190822_014733                   </td><td style=\"text-align: right;\">0.782782</td><td style=\"text-align: right;\"> 0.557031</td><td style=\"text-align: right;\">              0.331908</td><td style=\"text-align: right;\">0.43506 </td><td style=\"text-align: right;\">0.189277</td></tr>\n",
              "<tr><td>XGBoost_2_AutoML_20190822_014733                   </td><td style=\"text-align: right;\">0.782426</td><td style=\"text-align: right;\"> 0.557296</td><td style=\"text-align: right;\">              0.326804</td><td style=\"text-align: right;\">0.435181</td><td style=\"text-align: right;\">0.189383</td></tr>\n",
              "<tr><td>XGBoost_grid_1_AutoML_20190822_014733_model_1      </td><td style=\"text-align: right;\">0.781559</td><td style=\"text-align: right;\"> 0.561901</td><td style=\"text-align: right;\">              0.330242</td><td style=\"text-align: right;\">0.436658</td><td style=\"text-align: right;\">0.190671</td></tr>\n",
              "<tr><td>GBM_5_AutoML_20190822_014733                       </td><td style=\"text-align: right;\">0.780344</td><td style=\"text-align: right;\"> 0.558723</td><td style=\"text-align: right;\">              0.334826</td><td style=\"text-align: right;\">0.436138</td><td style=\"text-align: right;\">0.190216</td></tr>\n",
              "<tr><td>GBM_1_AutoML_20190822_014733                       </td><td style=\"text-align: right;\">0.780286</td><td style=\"text-align: right;\"> 0.560701</td><td style=\"text-align: right;\">              0.316822</td><td style=\"text-align: right;\">0.43642 </td><td style=\"text-align: right;\">0.190462</td></tr>\n",
              "<tr><td>GBM_2_AutoML_20190822_014733                       </td><td style=\"text-align: right;\">0.77971 </td><td style=\"text-align: right;\"> 0.560845</td><td style=\"text-align: right;\">              0.332059</td><td style=\"text-align: right;\">0.436651</td><td style=\"text-align: right;\">0.190664</td></tr>\n",
              "<tr><td>GBM_3_AutoML_20190822_014733                       </td><td style=\"text-align: right;\">0.774661</td><td style=\"text-align: right;\"> 0.56568 </td><td style=\"text-align: right;\">              0.33475 </td><td style=\"text-align: right;\">0.43918 </td><td style=\"text-align: right;\">0.192879</td></tr>\n",
              "<tr><td>XGBoost_grid_1_AutoML_20190822_014733_model_2      </td><td style=\"text-align: right;\">0.774081</td><td style=\"text-align: right;\"> 0.57672 </td><td style=\"text-align: right;\">              0.330086</td><td style=\"text-align: right;\">0.44281 </td><td style=\"text-align: right;\">0.196081</td></tr>\n",
              "<tr><td>GBM_4_AutoML_20190822_014733                       </td><td style=\"text-align: right;\">0.769793</td><td style=\"text-align: right;\"> 0.571616</td><td style=\"text-align: right;\">              0.338649</td><td style=\"text-align: right;\">0.441869</td><td style=\"text-align: right;\">0.195248</td></tr>\n",
              "<tr><td>GBM_grid_1_AutoML_20190822_014733_model_1          </td><td style=\"text-align: right;\">0.769752</td><td style=\"text-align: right;\"> 0.572583</td><td style=\"text-align: right;\">              0.344331</td><td style=\"text-align: right;\">0.442452</td><td style=\"text-align: right;\">0.195764</td></tr>\n",
              "<tr><td>DRF_1_AutoML_20190822_014733                       </td><td style=\"text-align: right;\">0.76334 </td><td style=\"text-align: right;\"> 0.580105</td><td style=\"text-align: right;\">              0.342391</td><td style=\"text-align: right;\">0.445477</td><td style=\"text-align: right;\">0.198449</td></tr>\n",
              "<tr><td>XRT_1_AutoML_20190822_014733                       </td><td style=\"text-align: right;\">0.76257 </td><td style=\"text-align: right;\"> 0.582324</td><td style=\"text-align: right;\">              0.347   </td><td style=\"text-align: right;\">0.446207</td><td style=\"text-align: right;\">0.199101</td></tr>\n",
              "<tr><td>GBM_grid_1_AutoML_20190822_014733_model_2          </td><td style=\"text-align: right;\">0.752753</td><td style=\"text-align: right;\"> 0.931836</td><td style=\"text-align: right;\">              0.345093</td><td style=\"text-align: right;\">0.496916</td><td style=\"text-align: right;\">0.246926</td></tr>\n",
              "<tr><td>DeepLearning_grid_1_AutoML_20190822_014733_model_2 </td><td style=\"text-align: right;\">0.742787</td><td style=\"text-align: right;\"> 0.595343</td><td style=\"text-align: right;\">              0.375083</td><td style=\"text-align: right;\">0.452563</td><td style=\"text-align: right;\">0.204813</td></tr>\n",
              "<tr><td>DeepLearning_grid_1_AutoML_20190822_014733_model_1 </td><td style=\"text-align: right;\">0.701484</td><td style=\"text-align: right;\"> 0.641655</td><td style=\"text-align: right;\">              0.393408</td><td style=\"text-align: right;\">0.470077</td><td style=\"text-align: right;\">0.220972</td></tr>\n",
              "<tr><td>GLM_grid_1_AutoML_20190822_014733_model_1          </td><td style=\"text-align: right;\">0.682648</td><td style=\"text-align: right;\"> 0.63852 </td><td style=\"text-align: right;\">              0.397234</td><td style=\"text-align: right;\">0.472683</td><td style=\"text-align: right;\">0.223429</td></tr>\n",
              "<tr><td>DeepLearning_1_AutoML_20190822_014733              </td><td style=\"text-align: right;\">0.674415</td><td style=\"text-align: right;\"> 0.646372</td><td style=\"text-align: right;\">              0.433917</td><td style=\"text-align: right;\">0.476017</td><td style=\"text-align: right;\">0.226592</td></tr>\n",
              "</tbody>\n",
              "</table>"
            ]
          },
          "metadata": {
            "tags": []
          }
        },
        {
          "output_type": "execute_result",
          "data": {
            "text/plain": [
              ""
            ]
          },
          "metadata": {
            "tags": []
          },
          "execution_count": 1
        }
      ]
    },
    {
      "cell_type": "code",
      "metadata": {
        "id": "P4ZCd15FnAac",
        "colab_type": "code",
        "outputId": "448a113b-3310-497c-98ff-a226ee6239fc",
        "colab": {
          "base_uri": "https://localhost:8080/",
          "height": 51
        }
      },
      "source": [
        "preds = aml.predict(test)\n",
        "\n",
        "# or:\n",
        "preds = aml.leader.predict(test)"
      ],
      "execution_count": 0,
      "outputs": [
        {
          "output_type": "stream",
          "text": [
            "stackedensemble prediction progress: |████████████████████████████████████| 100%\n",
            "stackedensemble prediction progress: |████████████████████████████████████| 100%\n"
          ],
          "name": "stdout"
        }
      ]
    },
    {
      "cell_type": "code",
      "metadata": {
        "id": "SQaFOSiGrd5m",
        "colab_type": "code",
        "colab": {}
      },
      "source": [
        "leader = aml.leader"
      ],
      "execution_count": 0,
      "outputs": []
    },
    {
      "cell_type": "code",
      "metadata": {
        "id": "OEnJC-_ir58z",
        "colab_type": "code",
        "outputId": "b101fe0b-11bd-43f6-a03b-796518efa66f",
        "colab": {
          "base_uri": "https://localhost:8080/",
          "height": 267
        }
      },
      "source": [
        "aml.predict(test)"
      ],
      "execution_count": 0,
      "outputs": [
        {
          "output_type": "stream",
          "text": [
            "stackedensemble prediction progress: |████████████████████████████████████| 100%\n"
          ],
          "name": "stdout"
        },
        {
          "output_type": "display_data",
          "data": {
            "text/html": [
              "<table>\n",
              "<thead>\n",
              "<tr><th style=\"text-align: right;\">  predict</th><th style=\"text-align: right;\">      p0</th><th style=\"text-align: right;\">      p1</th></tr>\n",
              "</thead>\n",
              "<tbody>\n",
              "<tr><td style=\"text-align: right;\">        0</td><td style=\"text-align: right;\">0.754136</td><td style=\"text-align: right;\">0.245864</td></tr>\n",
              "<tr><td style=\"text-align: right;\">        0</td><td style=\"text-align: right;\">0.70948 </td><td style=\"text-align: right;\">0.29052 </td></tr>\n",
              "<tr><td style=\"text-align: right;\">        1</td><td style=\"text-align: right;\">0.547284</td><td style=\"text-align: right;\">0.452716</td></tr>\n",
              "<tr><td style=\"text-align: right;\">        1</td><td style=\"text-align: right;\">0.329054</td><td style=\"text-align: right;\">0.670946</td></tr>\n",
              "<tr><td style=\"text-align: right;\">        1</td><td style=\"text-align: right;\">0.668722</td><td style=\"text-align: right;\">0.331278</td></tr>\n",
              "<tr><td style=\"text-align: right;\">        1</td><td style=\"text-align: right;\">0.3049  </td><td style=\"text-align: right;\">0.6951  </td></tr>\n",
              "<tr><td style=\"text-align: right;\">        1</td><td style=\"text-align: right;\">0.262321</td><td style=\"text-align: right;\">0.737679</td></tr>\n",
              "<tr><td style=\"text-align: right;\">        1</td><td style=\"text-align: right;\">0.656457</td><td style=\"text-align: right;\">0.343543</td></tr>\n",
              "<tr><td style=\"text-align: right;\">        1</td><td style=\"text-align: right;\">0.571741</td><td style=\"text-align: right;\">0.428259</td></tr>\n",
              "<tr><td style=\"text-align: right;\">        0</td><td style=\"text-align: right;\">0.833949</td><td style=\"text-align: right;\">0.166051</td></tr>\n",
              "</tbody>\n",
              "</table>"
            ]
          },
          "metadata": {
            "tags": []
          }
        },
        {
          "output_type": "execute_result",
          "data": {
            "text/plain": [
              ""
            ]
          },
          "metadata": {
            "tags": []
          },
          "execution_count": 4
        }
      ]
    },
    {
      "cell_type": "code",
      "metadata": {
        "id": "ZK7dCxtExr9T",
        "colab_type": "code",
        "colab": {}
      },
      "source": [
        "leader_board = aml.leaderboard.as_data_frame()\n"
      ],
      "execution_count": 0,
      "outputs": []
    },
    {
      "cell_type": "code",
      "metadata": {
        "id": "sDn_bwY173ts",
        "colab_type": "code",
        "outputId": "558f5cf6-ac1e-4bd2-c710-6cd94bd49e35",
        "colab": {
          "base_uri": "https://localhost:8080/",
          "height": 204
        }
      },
      "source": [
        "leader_board.head()"
      ],
      "execution_count": 0,
      "outputs": [
        {
          "output_type": "execute_result",
          "data": {
            "text/html": [
              "<div>\n",
              "<style scoped>\n",
              "    .dataframe tbody tr th:only-of-type {\n",
              "        vertical-align: middle;\n",
              "    }\n",
              "\n",
              "    .dataframe tbody tr th {\n",
              "        vertical-align: top;\n",
              "    }\n",
              "\n",
              "    .dataframe thead th {\n",
              "        text-align: right;\n",
              "    }\n",
              "</style>\n",
              "<table border=\"1\" class=\"dataframe\">\n",
              "  <thead>\n",
              "    <tr style=\"text-align: right;\">\n",
              "      <th></th>\n",
              "      <th>model_id</th>\n",
              "      <th>auc</th>\n",
              "      <th>logloss</th>\n",
              "      <th>mean_per_class_error</th>\n",
              "      <th>rmse</th>\n",
              "      <th>mse</th>\n",
              "    </tr>\n",
              "  </thead>\n",
              "  <tbody>\n",
              "    <tr>\n",
              "      <th>0</th>\n",
              "      <td>StackedEnsemble_AllModels_AutoML_20190822_014733</td>\n",
              "      <td>0.790214</td>\n",
              "      <td>0.551084</td>\n",
              "      <td>0.324954</td>\n",
              "      <td>0.431938</td>\n",
              "      <td>0.186570</td>\n",
              "    </tr>\n",
              "    <tr>\n",
              "      <th>1</th>\n",
              "      <td>StackedEnsemble_BestOfFamily_AutoML_20190822_0...</td>\n",
              "      <td>0.788471</td>\n",
              "      <td>0.552618</td>\n",
              "      <td>0.323182</td>\n",
              "      <td>0.432714</td>\n",
              "      <td>0.187241</td>\n",
              "    </tr>\n",
              "    <tr>\n",
              "      <th>2</th>\n",
              "      <td>XGBoost_grid_1_AutoML_20190822_014733_model_3</td>\n",
              "      <td>0.785380</td>\n",
              "      <td>0.558380</td>\n",
              "      <td>0.333409</td>\n",
              "      <td>0.434884</td>\n",
              "      <td>0.189124</td>\n",
              "    </tr>\n",
              "    <tr>\n",
              "      <th>3</th>\n",
              "      <td>XGBoost_3_AutoML_20190822_014733</td>\n",
              "      <td>0.784162</td>\n",
              "      <td>0.558118</td>\n",
              "      <td>0.340129</td>\n",
              "      <td>0.435162</td>\n",
              "      <td>0.189366</td>\n",
              "    </tr>\n",
              "    <tr>\n",
              "      <th>4</th>\n",
              "      <td>XGBoost_grid_1_AutoML_20190822_014733_model_4</td>\n",
              "      <td>0.783842</td>\n",
              "      <td>0.557377</td>\n",
              "      <td>0.312392</td>\n",
              "      <td>0.435045</td>\n",
              "      <td>0.189264</td>\n",
              "    </tr>\n",
              "  </tbody>\n",
              "</table>\n",
              "</div>"
            ],
            "text/plain": [
              "                                            model_id  ...       mse\n",
              "0   StackedEnsemble_AllModels_AutoML_20190822_014733  ...  0.186570\n",
              "1  StackedEnsemble_BestOfFamily_AutoML_20190822_0...  ...  0.187241\n",
              "2      XGBoost_grid_1_AutoML_20190822_014733_model_3  ...  0.189124\n",
              "3                   XGBoost_3_AutoML_20190822_014733  ...  0.189366\n",
              "4      XGBoost_grid_1_AutoML_20190822_014733_model_4  ...  0.189264\n",
              "\n",
              "[5 rows x 6 columns]"
            ]
          },
          "metadata": {
            "tags": []
          },
          "execution_count": 6
        }
      ]
    },
    {
      "cell_type": "code",
      "metadata": {
        "id": "KwrDYZvhzPho",
        "colab_type": "code",
        "outputId": "c4d35b7a-fe4f-4947-b608-a078b4555d70",
        "colab": {
          "base_uri": "https://localhost:8080/",
          "height": 612
        }
      },
      "source": [
        "xgboost = h2o.get_model(leader_board['model_id'][2])\n",
        "xgboost.varimp_plot()"
      ],
      "execution_count": 0,
      "outputs": [
        {
          "output_type": "display_data",
          "data": {
            "image/png": "[encoded data removed]",
            "text/plain": [
              "<Figure size 1008x720 with 1 Axes>"
            ]
          },
          "metadata": {
            "tags": []
          }
        }
      ]
    },
    {
      "cell_type": "code",
      "metadata": {
        "id": "h0uchXFQAQCK",
        "colab_type": "code",
        "colab": {}
      },
      "source": [
        ""
      ],
      "execution_count": 0,
      "outputs": []
    }
  ]
}